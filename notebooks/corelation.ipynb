{
 "cells": [
  {
   "cell_type": "markdown",
   "id": "ae3d6207",
   "metadata": {},
   "source": [
    "Predicting Price Moves with News Sentiment"
   ]
  },
  {
   "cell_type": "code",
   "execution_count": 6,
   "id": "efd05bf7",
   "metadata": {},
   "outputs": [
    {
     "name": "stderr",
     "output_type": "stream",
     "text": [
      "[nltk_data] Downloading package vader_lexicon to\n",
      "[nltk_data]     C:\\Users\\mukit\\AppData\\Roaming\\nltk_data...\n",
      "[nltk_data]   Package vader_lexicon is already up-to-date!\n"
     ]
    },
    {
     "name": "stdout",
     "output_type": "stream",
     "text": [
      "Warning: 1351341 dates couldn't be parsed.\n",
      "Sample problem dates:\n",
      "10    2020-05-22 00:00:00\n",
      "11    2020-05-22 00:00:00\n",
      "12    2020-05-21 00:00:00\n",
      "13    2020-05-21 00:00:00\n",
      "14    2020-05-21 00:00:00\n",
      "Name: date, dtype: object\n"
     ]
    },
    {
     "name": "stderr",
     "output_type": "stream",
     "text": [
      "C:\\Users\\mukit\\AppData\\Local\\Temp\\ipykernel_10428\\3033604162.py:27: FutureWarning: Downcasting object dtype arrays on .fillna, .ffill, .bfill is deprecated and will change in a future version. Call result.infer_objects(copy=False) instead. To opt-in to the future behavior, set `pd.set_option('future.no_silent_downcasting', True)`\n",
      "  dates = dates.fillna(new_dates)\n",
      "C:\\Users\\mukit\\AppData\\Local\\Temp\\ipykernel_10428\\3033604162.py:27: FutureWarning: Downcasting object dtype arrays on .fillna, .ffill, .bfill is deprecated and will change in a future version. Call result.infer_objects(copy=False) instead. To opt-in to the future behavior, set `pd.set_option('future.no_silent_downcasting', True)`\n",
      "  dates = dates.fillna(new_dates)\n",
      "C:\\Users\\mukit\\AppData\\Local\\Temp\\ipykernel_10428\\3033604162.py:27: FutureWarning: Downcasting object dtype arrays on .fillna, .ffill, .bfill is deprecated and will change in a future version. Call result.infer_objects(copy=False) instead. To opt-in to the future behavior, set `pd.set_option('future.no_silent_downcasting', True)`\n",
      "  dates = dates.fillna(new_dates)\n",
      "C:\\Users\\mukit\\AppData\\Local\\Temp\\ipykernel_10428\\3033604162.py:27: FutureWarning: Downcasting object dtype arrays on .fillna, .ffill, .bfill is deprecated and will change in a future version. Call result.infer_objects(copy=False) instead. To opt-in to the future behavior, set `pd.set_option('future.no_silent_downcasting', True)`\n",
      "  dates = dates.fillna(new_dates)\n",
      "C:\\Users\\mukit\\AppData\\Local\\Temp\\ipykernel_10428\\3033604162.py:27: FutureWarning: Downcasting object dtype arrays on .fillna, .ffill, .bfill is deprecated and will change in a future version. Call result.infer_objects(copy=False) instead. To opt-in to the future behavior, set `pd.set_option('future.no_silent_downcasting', True)`\n",
      "  dates = dates.fillna(new_dates)\n"
     ]
    },
    {
     "name": "stdout",
     "output_type": "stream",
     "text": [
      "📊 Same-day correlation: r = nan, p = nan\n",
      "📈 Next-day correlation: r = nan, p = nan\n"
     ]
    },
    {
     "data": {
      "image/png": "[encoded data removed]",
      "text/plain": [
       "<Figure size 1200x600 with 1 Axes>"
      ]
     },
     "metadata": {},
     "output_type": "display_data"
    }
   ],
   "source": [
    "import pandas as pd\n",
    "import numpy as np\n",
    "import nltk\n",
    "from nltk.sentiment.vader import SentimentIntensityAnalyzer\n",
    "from textblob import TextBlob  # Optional for enhancement\n",
    "from datetime import datetime, date\n",
    "from scipy.stats import pearsonr\n",
    "import matplotlib.pyplot as plt\n",
    "import seaborn as sns\n",
    "\n",
    "# Download NLTK resources\n",
    "nltk.download('vader_lexicon')\n",
    "\n",
    "# ================================\n",
    "# 1. Safe Date Parser Function\n",
    "# ================================\n",
    "def safe_date_parse(date_series):\n",
    "    \"\"\"Convert a series to datetime with extensive error handling.\"\"\"\n",
    "    dates = pd.to_datetime(date_series, errors='coerce')\n",
    "    if dates.isna().any():\n",
    "        print(f\"Warning: {dates.isna().sum()} dates couldn't be parsed.\")\n",
    "        print(\"Sample problem dates:\")\n",
    "        print(date_series[dates.isna()].head())\n",
    "        for fmt in ['%m/%d/%Y', '%d-%m-%Y', '%Y%m%d', '%b %d %Y', '%d %b %Y']:\n",
    "            try:\n",
    "                new_dates = pd.to_datetime(date_series, format=fmt, errors='coerce')\n",
    "                dates = dates.fillna(new_dates)\n",
    "            except:\n",
    "                continue\n",
    "    return dates\n",
    "\n",
    "# ================================\n",
    "# 2. Load News Data\n",
    "# ================================\n",
    "news_path = r\"C:\\Users\\mukit\\Desktop\\Kify AIML\\Code Part\\Week 1\\-Predicting-Price-Moves-with-News-Sentiment\\Data\\raw_analyst_ratings\\raw_analyst_ratings.csv\"\n",
    "news_df = pd.read_csv(news_path)\n",
    "news_df.columns = [col.lower() for col in news_df.columns]\n",
    "news_df['date'] = safe_date_parse(news_df['date'])\n",
    "news_df = news_df.dropna(subset=['date'])\n",
    "\n",
    "# Filter for AAPL news\n",
    "aapl_news = news_df[news_df['stock'].str.upper() == 'AAPL'][['date', 'headline', 'stock']].copy()\n",
    "\n",
    "# Ensure datetime with timezone\n",
    "aapl_news['date'] = pd.to_datetime(aapl_news['date'])\n",
    "if aapl_news['date'].dt.tz is None:\n",
    "    aapl_news['date'] = aapl_news['date'].dt.tz_localize('America/New_York')\n",
    "\n",
    "# ================================\n",
    "# 3. Sentiment Analysis (VADER)\n",
    "# ================================\n",
    "sid = SentimentIntensityAnalyzer()\n",
    "\n",
    "def get_sentiment(text):\n",
    "    if pd.isna(text):\n",
    "        return 0\n",
    "    return sid.polarity_scores(str(text))['compound']\n",
    "\n",
    "aapl_news['sentiment_score'] = aapl_news['headline'].apply(get_sentiment)\n",
    "aapl_news['sentiment_label'] = np.where(\n",
    "    aapl_news['sentiment_score'] > 0.1, 'positive',\n",
    "    np.where(aapl_news['sentiment_score'] < -0.1, 'negative', 'neutral')\n",
    ")\n",
    "\n",
    "# ================================\n",
    "# 4. Load Stock Price Data\n",
    "# ================================\n",
    "stock_path = r\"C:\\Users\\mukit\\Desktop\\Kify AIML\\Code Part\\Week 1\\-Predicting-Price-Moves-with-News-Sentiment\\Data\\yfinance_data\\yfinance_data\\AAPL_historical_data.csv\"\n",
    "aapl_stock = pd.read_csv(stock_path)\n",
    "aapl_stock = aapl_stock.rename(columns={'Date': 'date', 'Close': 'close', 'Adj Close': 'adj_close'})\n",
    "aapl_stock['date'] = safe_date_parse(aapl_stock['date'])\n",
    "aapl_stock = aapl_stock.dropna(subset=['date'])\n",
    "aapl_stock = aapl_stock.sort_values('date')\n",
    "\n",
    "# ================================\n",
    "# 5. Calculate Daily Returns\n",
    "# ================================\n",
    "aapl_stock['daily_return_pct'] = aapl_stock['close'].pct_change() * 100\n",
    "\n",
    "# ================================\n",
    "# 6. Align Dates and Merge\n",
    "# ================================\n",
    "aapl_news['date_only'] = aapl_news['date'].dt.date\n",
    "aapl_stock['date_only'] = aapl_stock['date'].dt.date\n",
    "\n",
    "merged_df = pd.merge(\n",
    "    aapl_stock,\n",
    "    aapl_news.groupby('date_only')['sentiment_score'].mean().reset_index(),\n",
    "    on='date_only',\n",
    "    how='left'\n",
    ")\n",
    "\n",
    "# Fill missing sentiment with neutral (0)\n",
    "merged_df['sentiment_score'] = merged_df['sentiment_score'].fillna(0)\n",
    "\n",
    "# ================================\n",
    "# 7. Correlation Analysis\n",
    "# ================================\n",
    "# Same-day\n",
    "r_same, p_same = pearsonr(merged_df['sentiment_score'], merged_df['daily_return_pct'])\n",
    "\n",
    "# Next-day\n",
    "merged_df['next_day_return'] = merged_df['daily_return_pct'].shift(-1)\n",
    "r_next, p_next = pearsonr(merged_df['sentiment_score'], merged_df['next_day_return'])\n",
    "\n",
    "print(f\"📊 Same-day correlation: r = {r_same:.3f}, p = {p_same:.4f}\")\n",
    "print(f\"📈 Next-day correlation: r = {r_next:.3f}, p = {p_next:.4f}\")\n",
    "\n",
    "# ================================\n",
    "# 8. Visualization\n",
    "# ================================\n",
    "plt.figure(figsize=(12, 6))\n",
    "sns.regplot(\n",
    "    data=merged_df,\n",
    "    x='sentiment_score',\n",
    "    y='daily_return_pct',\n",
    "    scatter_kws={'alpha': 0.5},\n",
    "    line_kws={'color': 'red'}\n",
    ")\n",
    "plt.title(\"AAPL: News Sentiment vs Daily Returns\")\n",
    "plt.xlabel(\"Sentiment Score\")\n",
    "plt.ylabel(\"Daily Return (%)\")\n",
    "plt.grid(True)\n",
    "plt.tight_layout()\n",
    "plt.show()\n"
   ]
  }
 ],
 "metadata": {
  "kernelspec": {
   "display_name": "venv",
   "language": "python",
   "name": "python3"
  },
  "language_info": {
   "codemirror_mode": {
    "name": "ipython",
    "version": 3
   },
   "file_extension": ".py",
   "mimetype": "text/x-python",
   "name": "python",
   "nbconvert_exporter": "python",
   "pygments_lexer": "ipython3",
   "version": "3.12.2"
  }
 },
 "nbformat": 4,
 "nbformat_minor": 5
}
