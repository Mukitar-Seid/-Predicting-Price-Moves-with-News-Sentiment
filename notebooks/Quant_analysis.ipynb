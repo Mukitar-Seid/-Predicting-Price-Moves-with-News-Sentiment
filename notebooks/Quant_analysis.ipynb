{
 "cells": [
  {
   "cell_type": "code",
   "execution_count": null,
   "id": "3c9bd91e",
   "metadata": {},
   "outputs": [],
   "source": [
    "import pandas as pd\n",
    "import matplotlib.pyplot as plt\n",
    "import talib\n",
    "import pynance as pn\n",
    "import os\n",
    "\n",
    "# File paths to your stock CSV files\n",
    "data_paths = {\n",
    "    'TSLA': r\"C:\\Users\\mukit\\Desktop\\Kify AIML\\Code Part\\Week 1\\-Predicting-Price-Moves-with-News-Sentiment\\Data\\yfinance_data\\yfinance_data\\TSLA_historical_data.csv\",\n",
    "    'NVDA': r\"C:\\Users\\mukit\\Desktop\\Kify AIML\\Code Part\\Week 1\\-Predicting-Price-Moves-with-News-Sentiment\\Data\\yfinance_data\\yfinance_data\\NVDA_historical_data.csv\",\n",
    "    'MSFT': r\"C:\\Users\\mukit\\Desktop\\Kify AIML\\Code Part\\Week 1\\-Predicting-Price-Moves-with-News-Sentiment\\Data\\yfinance_data\\yfinance_data\\MSFT_historical_data.csv\",\n",
    "    'META': r\"C:\\Users\\mukit\\Desktop\\Kify AIML\\Code Part\\Week 1\\-Predicting-Price-Moves-with-News-Sentiment\\Data\\yfinance_data\\yfinance_data\\META_historical_data.csv\",\n",
    "    'GOOG': r\"C:\\Users\\mukit\\Desktop\\Kify AIML\\Code Part\\Week 1\\-Predicting-Price-Moves-with-News-Sentiment\\Data\\yfinance_data\\yfinance_data\\AMZN_historical_data.csv\",\n",
    "}\n",
    "\n",
    "# Load and prepare the stock data\n",
    "def load_and_prepare(path):\n",
    "    df = pd.read_csv(path, parse_dates=['Date'], index_col='Date')\n",
    "    df = df[['Open', 'High', 'Low', 'Adj Close', 'Volume']].dropna()\n",
    "    df.rename(columns={'Adj Close': 'Close'}, inplace=True)  # for TA-Lib compatibility\n",
    "    return df\n",
    "\n",
    "# Apply technical indicators using TA-Lib\n",
    "def apply_indicators(df):\n",
    "    df['SMA_20'] = talib.SMA(df['Close'], timeperiod=20)\n",
    "    df['RSI'] = talib.RSI(df['Close'], timeperiod=14)\n",
    "    macd, macdsignal, macdhist = talib.MACD(df['Close'], fastperiod=12, slowperiod=26, signalperiod=9)\n",
    "    df['MACD'] = macd\n",
    "    df['MACD_Signal'] = macdsignal\n",
    "    return df\n",
    "\n",
    "# Visualize price, RSI, and MACD\n",
    "def visualize(df, stock):\n",
    "    plt.figure(figsize=(14, 9))\n",
    "\n",
    "    # Plot price and SMA\n",
    "    plt.subplot(3, 1, 1)\n",
    "    plt.plot(df['Close'], label='Adj Close', color='blue')\n",
    "    plt.plot(df['SMA_20'], label='SMA 20', color='orange')\n",
    "    plt.title(f'{stock} - Adjusted Close Price and SMA')\n",
    "    plt.legend()\n",
    "    plt.grid(True)\n",
    "\n",
    "    # Plot RSI\n",
    "    plt.subplot(3, 1, 2)\n",
    "    plt.plot(df['RSI'], label='RSI', color='purple')\n",
    "    plt.axhline(70, linestyle='--', color='red')\n",
    "    plt.axhline(30, linestyle='--'\n"
   ]
  }
 ],
 "metadata": {
  "language_info": {
   "name": "python"
  }
 },
 "nbformat": 4,
 "nbformat_minor": 5
}
